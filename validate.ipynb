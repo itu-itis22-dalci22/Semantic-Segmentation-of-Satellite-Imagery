{
 "cells": [
  {
   "cell_type": "code",
   "execution_count": null,
   "metadata": {},
   "outputs": [],
   "source": [
    "def validate(model, val_dataloader, loss_fn):\n",
    "  device = next(model.parameters()).device\n",
    "\n",
    "  val_loss = 0.0\n",
    "  val_accuracy = 0.0\n",
    "  val_iou = 0.0\n",
    "  val_precision = 0.0\n",
    "  val_recall = 0.0\n",
    "  val_total = 0\n",
    "\n",
    "  model.eval()\n",
    "  with torch.inference_mode():\n",
    "    for inputs, targets in tqdm(val_dataloader):\n",
    "      inputs, targets = inputs.to(device), targets.to(device)\n",
    "\n",
    "      outputs = model(inputs)\n",
    "      loss = loss_fn(outputs, targets.long())\n",
    "\n",
    "      val_loss += loss.item()\n",
    "\n",
    "      accuracy = calculate_accuracy(outputs, targets)\n",
    "      iou = calculate_iou(outputs, targets, num_classes=14)\n",
    "      precision = calculate_precision(outputs, targets, 14)\n",
    "      recall = calculate_recall(outputs, targets, 14)\n",
    "\n",
    "      val_accuracy += accuracy\n",
    "      val_iou += iou\n",
    "      val_precision += precision\n",
    "      val_recall += recall\n",
    "\n",
    "      val_total += targets.size(0)\n",
    "\n",
    "  mean_val_loss = val_loss / len(val_dataloader)\n",
    "  mean_val_accuracy = val_accuracy / len(val_dataloader)\n",
    "  mean_val_iou = val_iou / len(val_dataloader)\n",
    "  mean_val_precision = val_precision / len(val_dataloader)\n",
    "  mean_val_recall = val_recall / len(val_dataloader)\n",
    "\n",
    "  mean_val_f1 = 2*(mean_val_precision * mean_val_recall) / (mean_val_precision + mean_val_recall)\n",
    "\n",
    "  return mean_val_loss, mean_val_accuracy, mean_val_iou, mean_val_f1, mean_val_precision, mean_val_recall"
   ]
  }
 ],
 "metadata": {
  "language_info": {
   "name": "python"
  }
 },
 "nbformat": 4,
 "nbformat_minor": 2
}
